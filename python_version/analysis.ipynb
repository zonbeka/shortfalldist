{
 "cells": [
  {
   "cell_type": "markdown",
   "metadata": {},
   "source": [
    "# Analysis of results from the analytical model and the simulation"
   ]
  },
  {
   "cell_type": "code",
   "execution_count": 3,
   "metadata": {
    "collapsed": true
   },
   "outputs": [],
   "source": [
    "import analytical_model as am\n",
    "import simulation_model as sm\n",
    "import data as dt"
   ]
  },
  {
   "cell_type": "markdown",
   "metadata": {},
   "source": [
    "Show the results of the analytical model"
   ]
  },
  {
   "cell_type": "code",
   "execution_count": null,
   "metadata": {},
   "outputs": [],
   "source": [
    "am.make_graphs(am.do_analysis(dt.data_sets[0]))"
   ]
  },
  {
   "cell_type": "markdown",
   "metadata": {},
   "source": [
    "Show the convergance between the analitical model and the simulation"
   ]
  },
  {
   "cell_type": "code",
   "execution_count": null,
   "metadata": {},
   "outputs": [],
   "source": [
    "sm.convergence_plot(dt.data_sets[0])"
   ]
  },
  {
   "cell_type": "markdown",
   "metadata": {},
   "source": [
    "## Simulation for all instances\n",
    "All instances are run in the analytical model and the simulation. \n",
    "The results are stored in a JSON file with named with a timestamp."
   ]
  },
  {
   "cell_type": "code",
   "execution_count": null,
   "metadata": {},
   "outputs": [],
   "source": [
    "# The results are stored in a json file\n",
    "sm.compare_multiple(dt.data_sets)"
   ]
  },
  {
   "cell_type": "markdown",
   "metadata": {},
   "source": [
    "## Boxplot comparison\n",
    "Make boxplot to compare the percentage deviation"
   ]
  },
  {
   "cell_type": "code",
   "execution_count": 4,
   "metadata": {
    "collapsed": true
   },
   "outputs": [],
   "source": [
    "results_path = '20170831190718.json'"
   ]
  },
  {
   "cell_type": "code",
   "execution_count": 5,
   "metadata": {},
   "outputs": [
    {
     "data": {
      "image/png": "[encoded data removed]",
      "text/plain": [
       "<matplotlib.figure.Figure at 0x22cebcaa860>"
      ]
     },
     "metadata": {},
     "output_type": "display_data"
    }
   ],
   "source": [
    "import json\n",
    "import pandas as pd\n",
    "import matplotlib.pyplot as plt\n",
    "import matplotlib.ticker as mtick\n",
    "import data as dt\n",
    "\n",
    "with open(results_path) as data_file:\n",
    "    data = json.load(data_file)\n",
    "diff = []\n",
    "heading = ['mean_demand', 'sd_demand', 'mean_lead_time', 'sd_lead_time',\n",
    "           'mean_wait', 'sd_wait', 'mean_n_in_system', 'sd_n_in_system']\n",
    "for i, result in enumerate(data):\n",
    "    a = result['analytical_model']\n",
    "    m = result['simulation_model']\n",
    "    entry = {s: 100 * (a[s] - m[s]) / a[s] for s in heading}\n",
    "    entry['set'] = i\n",
    "    diff.append(entry)\n",
    "\n",
    "fig, ax = plt.subplots()\n",
    "df = pd.DataFrame.from_records(diff)\n",
    "ax = df.boxplot(column=['mean_demand', 'sd_demand', 'mean_lead_time', 'sd_lead_time',\n",
    "                        'mean_wait', 'sd_wait', 'mean_n_in_system', 'sd_n_in_system'],\n",
    "                ax=ax, sym='.')\n",
    "ax.set_xticklabels(['E(D)', 'SD(D)', 'E(LT)', 'SD(LT)', 'E(W)', 'SD(W)', 'E(SF)', 'SD(SF)'])\n",
    "ax.yaxis.set_major_formatter(mtick.FormatStrFormatter('%0.0f%%'))\n",
    "ax.set_ylim([-10, 10])\n",
    "ax.grid(linestyle='None')\n",
    "plt.show()\n",
    "fig.savefig('boxplot.pdf', format='pdf')"
   ]
  }
 ],
 "metadata": {
  "kernelspec": {
   "display_name": "Python 3",
   "language": "python",
   "name": "python3"
  },
  "language_info": {
   "codemirror_mode": {
    "name": "ipython",
    "version": 3
   },
   "file_extension": ".py",
   "mimetype": "text/x-python",
   "name": "python",
   "nbconvert_exporter": "python",
   "pygments_lexer": "ipython3",
   "version": "3.6.1"
  }
 },
 "nbformat": 4,
 "nbformat_minor": 1
}
